{
 "cells": [
  {
   "cell_type": "code",
   "execution_count": 1,
   "id": "665758a9",
   "metadata": {},
   "outputs": [
    {
     "name": "stdout",
     "output_type": "stream",
     "text": [
      "Requirement already satisfied: folium in c:\\users\\meerw\\anaconda3\\lib\\site-packages (0.12.1)\n",
      "Requirement already satisfied: jinja2>=2.9 in c:\\users\\meerw\\anaconda3\\lib\\site-packages (from folium) (2.11.3)\n",
      "Requirement already satisfied: requests in c:\\users\\meerw\\anaconda3\\lib\\site-packages (from folium) (2.25.1)\n",
      "Requirement already satisfied: numpy in c:\\users\\meerw\\anaconda3\\lib\\site-packages (from folium) (1.19.2)\n",
      "Requirement already satisfied: branca>=0.3.0 in c:\\users\\meerw\\anaconda3\\lib\\site-packages (from folium) (0.4.2)\n",
      "Requirement already satisfied: MarkupSafe>=0.23 in c:\\users\\meerw\\anaconda3\\lib\\site-packages (from jinja2>=2.9->folium) (1.1.1)\n",
      "Requirement already satisfied: certifi>=2017.4.17 in c:\\users\\meerw\\anaconda3\\lib\\site-packages (from requests->folium) (2020.12.5)\n",
      "Requirement already satisfied: idna<3,>=2.5 in c:\\users\\meerw\\anaconda3\\lib\\site-packages (from requests->folium) (2.10)\n",
      "Requirement already satisfied: urllib3<1.27,>=1.21.1 in c:\\users\\meerw\\anaconda3\\lib\\site-packages (from requests->folium) (1.26.4)\n",
      "Requirement already satisfied: chardet<5,>=3.0.2 in c:\\users\\meerw\\anaconda3\\lib\\site-packages (from requests->folium) (3.0.4)\n"
     ]
    }
   ],
   "source": [
    "!pip install folium"
   ]
  },
  {
   "cell_type": "code",
   "execution_count": 2,
   "id": "a8a6c6ad",
   "metadata": {},
   "outputs": [],
   "source": [
    "import pandas as pd\n",
    "import matplotlib.pyplot as plt\n",
    "import seaborn as sns\n",
    "import folium"
   ]
  },
  {
   "cell_type": "markdown",
   "id": "e72dbaff",
   "metadata": {},
   "source": [
    "# Recommendations for Lyft Bay Wheel In-app Offers "
   ]
  },
  {
   "cell_type": "code",
   "execution_count": 3,
   "id": "beca4fe9",
   "metadata": {},
   "outputs": [
    {
     "name": "stderr",
     "output_type": "stream",
     "text": [
      "UsageError: Cell magic `%%bigquery` not found.\n"
     ]
    }
   ],
   "source": [
    "%%bigquery hourly_trip_freq_weekday\n",
    "\n",
    "SELECT EXTRACT(hour from start_date) AS start_hour, COUNT(*) AS number_of_trips\n",
    "FROM `bigquery-public-data.san_francisco.bikeshare_trips`\n",
    "WHERE EXTRACT(dayofweek from start_date) BETWEEN 2 AND 6\n",
    "GROUP BY start_hour\n",
    "ORDER BY start_hour"
   ]
  },
  {
   "cell_type": "code",
   "execution_count": null,
   "id": "603c63a8",
   "metadata": {},
   "outputs": [],
   "source": [
    "%%bigquery hourly_trip_freq_weekend\n",
    "\n",
    "SELECT EXTRACT(hour from start_date) AS start_hour, COUNT(*) AS number_of_trips\n",
    "FROM `bigquery-public-data.san_francisco.bikeshare_trips`\n",
    "WHERE EXTRACT(dayofweek from start_date) NOT BETWEEN 2 AND 6\n",
    "GROUP BY start_hour\n",
    "ORDER BY start_hour"
   ]
  },
  {
   "cell_type": "code",
   "execution_count": null,
   "id": "f624399d",
   "metadata": {},
   "outputs": [],
   "source": [
    "peak_weekday = hourly_trip_freq_weekday.sort_values('number_of_trips', ascending=False).iloc[0,0]\n",
    "peak_2_weekday = hourly_trip_freq_weekday.sort_values('number_of_trips', ascending=False).iloc[1,0]\n",
    "peak_weekend = hourly_trip_freq_weekend.sort_values('number_of_trips', ascending=False).iloc[0,0]\n",
    "\n",
    "fig = plt.figure(figsize=(8,6))\n",
    "plt.title(\"Hourly Distribution of Trip Frequency\", fontsize=15)\n",
    "plt.xlabel(\"Hour during the day (military time)\", fontsize=12)\n",
    "plt.ylabel(\"Number of trips\", fontsize=12)\n",
    "plt.fill_between(hourly_trip_freq_weekday['start_hour'], hourly_trip_freq_weekday['number_of_trips'], label='Weekday', color='red', alpha=.4)\n",
    "plt.fill_between(hourly_trip_freq_weekend['start_hour'], hourly_trip_freq_weekend['number_of_trips'], label='Weekend', color='green', alpha=.4)\n",
    "plt.axvline(peak_weekday,color='red', alpha=0.5, linestyle='dashed')\n",
    "plt.axvline(peak_2_weekday,color='red', alpha=0.5, linestyle='dashed')\n",
    "plt.axvline(peak_weekend,color='green', alpha=0.5, linestyle='dashed')\n",
    "plt.text(peak_weekday+0.5, hourly_trip_freq_weekday['number_of_trips'].max()-3000, '{}:00'.format(peak_weekday), alpha=0.7, fontsize=11)\n",
    "plt.text(peak_2_weekday-2.2, hourly_trip_freq_weekday.sort_values('number_of_trips', ascending=False).iloc[1,1]-5000, '{}:00'.format(peak_2_weekday), alpha=0.7, fontsize=11)\n",
    "plt.text(peak_weekend+0.25, hourly_trip_freq_weekend['number_of_trips'].max()+3000, '{}:00'.format(peak_weekend), alpha=0.7, fontsize=11)\n",
    "plt.legend(fontsize=12);"
   ]
  },
  {
   "cell_type": "markdown",
   "id": "010e2ae1",
   "metadata": {},
   "source": [
    "### What does this graph show us?\n",
    "1. Most riders use our bikes during weekdays (Monday-Friday).\n",
    "2. Weekday riders use our bikes the most in the morning (around 8am) or in the afternoon (around 5pm), while weekend riders usually use the bikes in the middle of the day (around 1pm).\n",
    "3. Peak hours during weekdays resemble work commute peak hours.\n",
    "\n",
    "**This suggests that most riders use Lyft Bay Wheels during weekdays to commute to work, so my recommendation for in-app offers will target commuters. This motivates the next question...**"
   ]
  },
  {
   "cell_type": "markdown",
   "id": "f3e85c6f",
   "metadata": {},
   "source": [
    "## 1. What are the 5 most popular trips that you would call \"commuter trips\"?"
   ]
  },
  {
   "cell_type": "markdown",
   "id": "2e68cf38",
   "metadata": {},
   "source": [
    "1. 2nd at Townsend $\\rightarrow$ Harry Bridges Plaza (Ferry Building)\n",
    "2. Harry Bridges Plaza (Ferry Building) $\\rightarrow$ 2nd at Townsend\n",
    "3. San Francisco Caltrain 2 (330 Townsend) $\\rightarrow$ Townsend at 7th\n",
    "4. Embarcadero at Sansome $\\rightarrow$ Steuart at Market\n",
    "5. Embarcadero at Folsom $\\rightarrow$ San Francisco Caltrain (Townsend at 4th)"
   ]
  },
  {
   "cell_type": "markdown",
   "id": "eedcbab7",
   "metadata": {},
   "source": [
    "### 1a. Defining Commuter Trips and Identifying the 5 Most Popular Commuter Trips"
   ]
  },
  {
   "cell_type": "markdown",
   "id": "2a7eeaf6",
   "metadata": {},
   "source": [
    "We define commuters as people who travel to work on a regular basis. Since people usually only work on weekdays (Monday-Friday), using the graph shown above, we define commuter trips as one way trips$^{[1]}$ that occur during morning peak hours from 7am up to 10am and afternoon peak hours from 4pm up to 7pm on weekdays.\n",
    "\n",
    "[1] Round trips were not excluded in subsequent queries for commuter trips, but none of the popular trips were round trips."
   ]
  },
  {
   "cell_type": "code",
   "execution_count": null,
   "id": "ba4880bc",
   "metadata": {},
   "outputs": [],
   "source": [
    "%%bigquery most_pop_trips\n",
    "\n",
    "SELECT start_station_name, end_station_name, COUNT(*) AS number_of_trips,\n",
    "FROM `bigquery-public-data.san_francisco.bikeshare_trips`\n",
    "WHERE EXTRACT(dayofweek from start_date) BETWEEN 2 AND 6 AND (EXTRACT(hour from start_date) BETWEEN 7 AND 9 OR EXTRACT(hour from start_date) BETWEEN 16 AND 18)\n",
    "GROUP BY start_station_name, end_station_name ORDER BY number_of_trips DESC LIMIT 5"
   ]
  },
  {
   "cell_type": "code",
   "execution_count": null,
   "id": "3345b16d",
   "metadata": {},
   "outputs": [],
   "source": [
    "most_pop_trips"
   ]
  },
  {
   "cell_type": "markdown",
   "id": "9eb7f660",
   "metadata": {},
   "source": [
    "The table above shows the 5 most popular commuter trips that began either during morning or afternoon peak hours. To verify they are commuter trips, we look at whether each of those trips has mirroring trip patterns between morning peak hours and afternoon peak hours. From the table below, we can see that all of these station pairs have mirroring trips between morning and afternoon peak hours, and on top of that, they are all within the top 10 most popular trips during their respective peak hours. This further confirms that the 5 most popular trips shown above are commuter trips."
   ]
  },
  {
   "cell_type": "code",
   "execution_count": null,
   "id": "c25193fb",
   "metadata": {},
   "outputs": [],
   "source": [
    "%%bigquery am_peak_trips\n",
    "\n",
    "SELECT start_station_name, end_station_name, COUNT(*) AS number_of_trips\n",
    "FROM `bigquery-public-data.san_francisco.bikeshare_trips` \n",
    "WHERE EXTRACT(dayofweek from start_date) BETWEEN 2 AND 6 AND EXTRACT(hour from start_date) BETWEEN 7 AND 9\n",
    "GROUP BY start_station_name, end_station_name ORDER BY number_of_trips DESC LIMIT 10"
   ]
  },
  {
   "cell_type": "code",
   "execution_count": null,
   "id": "c734cc58",
   "metadata": {},
   "outputs": [],
   "source": [
    "%%bigquery pm_peak_trips\n",
    "\n",
    "SELECT start_station_name, end_station_name, COUNT(*) AS number_of_trips\n",
    "FROM `bigquery-public-data.san_francisco.bikeshare_trips`\n",
    "WHERE EXTRACT(dayofweek from start_date) BETWEEN 2 AND 6 AND EXTRACT(hour from start_date) BETWEEN 16 AND 18\n",
    "GROUP BY start_station_name, end_station_name ORDER BY number_of_trips DESC LIMIT 10"
   ]
  },
  {
   "cell_type": "code",
   "execution_count": null,
   "id": "941dd0be",
   "metadata": {},
   "outputs": [],
   "source": [
    "#combine morning and afternoon queries into one dataframe \n",
    "am_peak_trips = am_peak_trips.add_suffix(\"_AM\")\n",
    "pm_peak_trips = pm_peak_trips.add_suffix(\"_PM\")\n",
    "ampm_peak_trips = am_peak_trips.merge(pm_peak_trips, left_index=True, right_index=True)\n",
    "ampm_peak_trips"
   ]
  },
  {
   "cell_type": "markdown",
   "id": "23339b62",
   "metadata": {},
   "source": [
    "### 1b. Investigating Characteristics of the 5 Most Popular Commuter Trips"
   ]
  },
  {
   "cell_type": "markdown",
   "id": "e147a50a",
   "metadata": {},
   "source": [
    "In order to make recommendation, we look at average trip durations of the 5 most popular commuter trips and user subscription type."
   ]
  },
  {
   "cell_type": "markdown",
   "id": "60c2936d",
   "metadata": {},
   "source": [
    "#### Trip Duration & Location"
   ]
  },
  {
   "cell_type": "code",
   "execution_count": null,
   "id": "7db79623",
   "metadata": {},
   "outputs": [],
   "source": [
    "%%bigquery trip_locs\n",
    "\n",
    "WITH trips_and_stations AS\n",
    "  (WITH start_loc_trips AS\n",
    "    (SELECT `bigquery-public-data.san_francisco.bikeshare_trips`.start_station_name, `bigquery-public-data.san_francisco.bikeshare_trips`.end_station_name, COUNT(*) AS number_of_trips,\n",
    "     `bigquery-public-data.san_francisco.bikeshare_stations`.longitude AS start_lon, `bigquery-public-data.san_francisco.bikeshare_stations`.latitude AS start_lat\n",
    "     FROM `bigquery-public-data.san_francisco.bikeshare_trips` \n",
    "     INNER JOIN `bigquery-public-data.san_francisco.bikeshare_stations` ON `bigquery-public-data.san_francisco.bikeshare_trips`.start_station_name=`bigquery-public-data.san_francisco.bikeshare_stations`.name\n",
    "     WHERE EXTRACT(dayofweek from `bigquery-public-data.san_francisco.bikeshare_trips`.start_date) BETWEEN 2 AND 6 AND\n",
    "     (EXTRACT(hour from `bigquery-public-data.san_francisco.bikeshare_trips`.start_date) BETWEEN 7 AND 9 OR EXTRACT(hour from `bigquery-public-data.san_francisco.bikeshare_trips`.start_date) BETWEEN 16 AND 18)\n",
    "     GROUP BY start_station_name, end_station_name, start_lon, start_lat)\n",
    "  SELECT start_loc_trips.start_station_name, start_loc_trips.end_station_name, start_loc_trips.number_of_trips, start_loc_trips.start_lon, start_loc_trips.start_lat,\n",
    "  `bigquery-public-data.san_francisco.bikeshare_stations`.longitude AS end_lon, `bigquery-public-data.san_francisco.bikeshare_stations`.latitude AS end_lat\n",
    "  FROM start_loc_trips\n",
    "  INNER JOIN `bigquery-public-data.san_francisco.bikeshare_stations` ON start_loc_trips.end_station_name=`bigquery-public-data.san_francisco.bikeshare_stations`.name\n",
    "  WHERE start_loc_trips.start_station_name != start_loc_trips.end_station_name)\n",
    "SELECT start_station_name, end_station_name, number_of_trips, start_lat, start_lon, end_lat, end_lon FROM trips_and_stations\n",
    "ORDER BY number_of_trips DESC LIMIT 5"
   ]
  },
  {
   "cell_type": "code",
   "execution_count": null,
   "id": "664b60bc",
   "metadata": {},
   "outputs": [],
   "source": [
    "geo_map = folium.Map(location=[37.791464, -122.390661], zoom_start=14, width='70%', height='80%')\n",
    "stations_recorded = set()\n",
    "for i in range(trip_locs.shape[0]):\n",
    "    #stations_recorded.add()\n",
    "    start_lat, start_lon = trip_locs.loc[i, 'start_lat'], trip_locs.loc[i, 'start_lon']\n",
    "    station_name = trip_locs.loc[i, 'start_station_name']\n",
    "    folium.Marker(location=[start_lat, start_lon], tooltip=station_name, icon=folium.Icon(color=\"pink\", icon=\"bicycle\", prefix=\"fa\")).add_to(geo_map)\n",
    "    end_lat, end_lon = trip_locs.loc[i, 'end_lat'], trip_locs.loc[i, 'end_lon']\n",
    "    station_name = trip_locs.loc[i, 'end_station_name']\n",
    "    folium.Marker(location=[end_lat, end_lon], tooltip=station_name, icon=folium.Icon(color=\"pink\", icon=\"bicycle\", prefix=\"fa\")).add_to(geo_map)\n",
    "    path = [(start_lat, start_lon), (end_lat, end_lon)]\n",
    "    folium.PolyLine(path, color='green', weight=5, opacity=0.6).add_to(geo_map)\n",
    "geo_map"
   ]
  },
  {
   "cell_type": "markdown",
   "id": "eb4ab544",
   "metadata": {},
   "source": [
    "The map above provides a geospatial representation of where the stations of the most 5 popular trips locate as well as the Euclidean distance of those trips. The pink markers denote the locations of the stations for the 5 most popular trips. The green lines indicate that there is a trip between thw two stations that are connected, but it does not indicate the exact route taken. The line between 2nd at Townsend and Harry Bridges Plaza (Ferry Building) is darker because there are two trips in between those two stations- one from 2nd at Townsend to Harry Bridges Plaza (Ferry Building) and one going the opposite direction.\n",
    "\n",
    "##### What does the graph tell us?\n",
    "1. The 5 most popular commuter trips are taken in Embarcadero, which is close to the Financial District, and SOMA.\n",
    "2. All the trips are at least 3 blocks long."
   ]
  },
  {
   "cell_type": "code",
   "execution_count": null,
   "id": "47403fef",
   "metadata": {},
   "outputs": [],
   "source": [
    "%%bigquery trip_duration_stats\n",
    "\n",
    "SELECT \n",
    "FORMAT(\n",
    "'%i days %i hours %i minutes %i seconds',\n",
    "unix_date(date(timestamp_seconds(CAST(ROUND(AVG(duration_sec)) AS int)))),\n",
    "EXTRACT(hour from timestamp_seconds(CAST(ROUND(AVG(duration_sec)) AS int))),\n",
    "EXTRACT(minute from timestamp_seconds(CAST(ROUND(AVG(duration_sec)) AS int))),\n",
    "EXTRACT(second from timestamp_seconds(CAST(ROUND(AVG(duration_sec)) AS int)))) AS duration_mean,\n",
    "FORMAT(\n",
    "'%i days %i hours %i minutes %i seconds',\n",
    "unix_date(date(timestamp_seconds(CAST(ROUND(STDDEV_SAMP(duration_sec)) AS int)))),\n",
    "EXTRACT(hour from timestamp_seconds(CAST(ROUND(STDDEV_SAMP(duration_sec)) AS int))),\n",
    "EXTRACT(minute from timestamp_seconds(CAST(ROUND(STDDEV_SAMP(duration_sec)) AS int))),\n",
    "EXTRACT(second from timestamp_seconds(CAST(ROUND(STDDEV_SAMP(duration_sec)) AS int)))) AS duration_stddev\n",
    "FROM `bigquery-public-data.san_francisco.bikeshare_trips`\n",
    "WHERE EXTRACT(dayofweek from start_date) BETWEEN 2 AND 6 AND (EXTRACT(hour from start_date) BETWEEN 7 AND 9 OR EXTRACT(hour from start_date) BETWEEN 16 AND 18) AND\n",
    "      duration_sec < 86400"
   ]
  },
  {
   "cell_type": "code",
   "execution_count": null,
   "id": "ddf4b016",
   "metadata": {},
   "outputs": [],
   "source": [
    "%%bigquery trip_dist\n",
    "\n",
    "WITH trips_and_stations AS\n",
    "  (WITH start_loc_trips AS\n",
    "    (SELECT `bigquery-public-data.san_francisco.bikeshare_trips`.start_station_name, `bigquery-public-data.san_francisco.bikeshare_trips`.end_station_name, \n",
    "     COUNT(*) AS number_of_trips, AVG(`bigquery-public-data.san_francisco.bikeshare_trips`.duration_sec) AS mean_duration_sec,\n",
    "     `bigquery-public-data.san_francisco.bikeshare_stations`.longitude AS start_lon, `bigquery-public-data.san_francisco.bikeshare_stations`.latitude AS start_lat\n",
    "     FROM `bigquery-public-data.san_francisco.bikeshare_trips` \n",
    "     INNER JOIN `bigquery-public-data.san_francisco.bikeshare_stations` ON `bigquery-public-data.san_francisco.bikeshare_trips`.start_station_name=`bigquery-public-data.san_francisco.bikeshare_stations`.name\n",
    "     WHERE EXTRACT(dayofweek from `bigquery-public-data.san_francisco.bikeshare_trips`.start_date) BETWEEN 2 AND 6 AND\n",
    "     (EXTRACT(hour from `bigquery-public-data.san_francisco.bikeshare_trips`.start_date) BETWEEN 7 AND 9 OR EXTRACT(hour from `bigquery-public-data.san_francisco.bikeshare_trips`.start_date) BETWEEN 16 AND 18)\n",
    "     GROUP BY start_station_name, end_station_name, start_lon, start_lat)\n",
    "  SELECT start_loc_trips.start_station_name, start_loc_trips.end_station_name, start_loc_trips.number_of_trips, start_loc_trips.mean_duration_sec, start_loc_trips.start_lon, start_loc_trips.start_lat,\n",
    "  `bigquery-public-data.san_francisco.bikeshare_stations`.longitude AS end_lon, `bigquery-public-data.san_francisco.bikeshare_stations`.latitude AS end_lat\n",
    "  FROM start_loc_trips\n",
    "  INNER JOIN `bigquery-public-data.san_francisco.bikeshare_stations` ON start_loc_trips.end_station_name=`bigquery-public-data.san_francisco.bikeshare_stations`.name\n",
    "  WHERE start_loc_trips.start_station_name != start_loc_trips.end_station_name)\n",
    "SELECT start_station_name, end_station_name, number_of_trips, mean_duration_sec, ST_DISTANCE(ST_GEOGPOINT(start_lon, start_lat), ST_GEOGPOINT(end_lon, end_lat)) AS trip_dist_meter FROM trips_and_stations\n",
    "ORDER BY number_of_trips DESC LIMIT 5"
   ]
  },
  {
   "cell_type": "code",
   "execution_count": null,
   "id": "10b1fbb5",
   "metadata": {},
   "outputs": [],
   "source": [
    "%%bigquery popular_avg_duration\n",
    "\n",
    "SELECT start_station_name, end_station_name, COUNT(*) AS number_of_trips, \n",
    "FORMAT(\n",
    "    '%i minutes %i seconds',\n",
    "    EXTRACT(minute from timestamp_seconds(CAST(ROUND(AVG(duration_sec)) AS int))),\n",
    "    EXTRACT(second from timestamp_seconds(CAST(ROUND(AVG(duration_sec)) AS int)))) AS mean_duration_sec\n",
    "FROM `bigquery-public-data.san_francisco.bikeshare_trips`\n",
    "WHERE EXTRACT(dayofweek from start_date) BETWEEN 2 AND 6 AND (EXTRACT(hour from start_date) BETWEEN 7 AND 9 OR EXTRACT(hour from start_date) BETWEEN 16 AND 18) AND\n",
    "    duration_sec BETWEEN 165 AND 4298\n",
    "GROUP BY start_station_name, end_station_name ORDER BY number_of_trips DESC LIMIT 5"
   ]
  },
  {
   "cell_type": "code",
   "execution_count": null,
   "id": "ad04e834",
   "metadata": {},
   "outputs": [],
   "source": [
    "trip_duration_stats"
   ]
  },
  {
   "cell_type": "code",
   "execution_count": null,
   "id": "f622ee22",
   "metadata": {},
   "outputs": [],
   "source": [
    "trip_dist"
   ]
  },
  {
   "cell_type": "markdown",
   "id": "867dfc9f",
   "metadata": {},
   "source": [
    "In calculating the average trip duration, we want to exclude trips with anomalous trip durations because those are likely user errors. For example, someone could have forgotten to return a bike when they went to work and created a record that lasted the whole day. To set the lower bound, we first derive the shortest distance of the shortest trip among the 5 most popular trips, which is around 886 meters. This distance is a lower bound on the actual trip distance, since in reality riders would not be able to travel in a straight line from one station to another. Using the average bicycle speed of 12mph in St. Petersburg, Florida in 2009 as an estimate of how fast commuters bike, the shortest trip distance of the 5 most popular commuter trips (886.27m) takes an average biker 2 minutes and 45 seconds, or 165.35 seconds, to complete. We set the upper bound as 2 standard deviations above the average trip duration, which is 1 hour 11 minutes and 38 seconds, or 4298 seconds.\n",
    "\n",
    "**Using the lower and upper bound aforementioned, the average trip duration for each of the 5 most popular commuter trips is about 10 minutes or less.**\n",
    "\n",
    "[2] [An Examination of Bicycle Counts and Speeds Associated with the Installation of Bike Lanes in St. Petersburg, Florida](https://www.pedbikeinfo.org/cms/downloads/FDOT_BA784_ExaminationBicycleCountsSpeedsInstallationBikeLanesStPetersburgFlorida.pdf)"
   ]
  },
  {
   "cell_type": "code",
   "execution_count": null,
   "id": "a31c1027",
   "metadata": {},
   "outputs": [],
   "source": [
    "popular_avg_duration"
   ]
  },
  {
   "cell_type": "markdown",
   "id": "5dcf4cff",
   "metadata": {},
   "source": [
    "### Ridership Demographic: Subscription Type"
   ]
  },
  {
   "cell_type": "markdown",
   "id": "79afa07a",
   "metadata": {},
   "source": [
    "Here we investigate the subscription type of riders who start trips during peak hours on weekdays versus on weekends.\n",
    "\n",
    "Over 95% of commuters of the 10 most popular trips are subscribers. To ensure that this is not simply a phenomenon of having more subscribers (86%) than customers (14%) in the dataset, I investigated subscriber types of trips made during weekend peak hours to see if those trips would have a lower proportion of subscribers (since non-commuters are less likely to commit to long-term subscriptions). Unsurprisingly, the proportion of subscribers riding during weekday peak hours is much higher than that of weekend peak hours, confirming that the high percentage of subscribers in the pool of commuters is not simply due to data imbalance. For each of the 5 most popular trips during weekend peak hours, over 60% of their trips are completed by customers. This suggests that commuters are more likely to be subscribers. \n",
    "\n",
    "\n",
    "***This shows that:***\n",
    "* Most commuters are subscribers.\n",
    "* Most trips made during weekend peak hours are customers (ie. non-subscribers)."
   ]
  },
  {
   "cell_type": "code",
   "execution_count": null,
   "id": "802f17f8",
   "metadata": {},
   "outputs": [],
   "source": [
    "%%bigquery subscriber_ratio\n",
    "\n",
    "SELECT subscriber_type, COUNT(*) AS type_count, ROUND(COUNT(*)*100/983648, 1) AS percentage FROM `bigquery-public-data.san_francisco.bikeshare_trips`\n",
    "GROUP BY subscriber_type"
   ]
  },
  {
   "cell_type": "code",
   "execution_count": null,
   "id": "adefa722",
   "metadata": {},
   "outputs": [],
   "source": [
    "subscriber_ratio"
   ]
  },
  {
   "cell_type": "code",
   "execution_count": null,
   "id": "bd3a6b56",
   "metadata": {},
   "outputs": [],
   "source": [
    "%%bigquery commute_type\n",
    "\n",
    "SELECT start_station_name, end_station_name, COUNT(*) AS number_of_trips,\n",
    "ROUND(SUM(CASE WHEN subscriber_type=\"Subscriber\" THEN 1 ELSE 0 END)/COUNT(*)*100,1) AS prop_subscribers FROM `bigquery-public-data.san_francisco.bikeshare_trips`\n",
    "WHERE EXTRACT(dayofweek from start_date) BETWEEN 2 AND 6 AND (EXTRACT(hour from start_date) BETWEEN 7 AND 9 OR EXTRACT(hour from start_date) BETWEEN 16 AND 18)\n",
    "GROUP BY start_station_name, end_station_name ORDER BY number_of_trips DESC LIMIT 10"
   ]
  },
  {
   "cell_type": "code",
   "execution_count": null,
   "id": "17e0bdaf",
   "metadata": {},
   "outputs": [],
   "source": [
    "%%bigquery noncommute_type\n",
    "\n",
    "SELECT start_station_name, end_station_name, COUNT(*) AS number_of_trips, \n",
    "ROUND(SUM(CASE WHEN subscriber_type=\"Subscriber\" THEN 1 ELSE 0 END)/COUNT(*)*100,1) AS prop_subscribers\n",
    "FROM `bigquery-public-data.san_francisco.bikeshare_trips`\n",
    "WHERE EXTRACT(hour from start_date) BETWEEN 11 AND 16 AND EXTRACT(dayofweek from start_date) NOT BETWEEN 2 AND 6\n",
    "GROUP BY start_station_name, end_station_name ORDER BY number_of_trips DESC LIMIT 5"
   ]
  },
  {
   "cell_type": "code",
   "execution_count": null,
   "id": "d344d5e5",
   "metadata": {},
   "outputs": [],
   "source": [
    "commute_type"
   ]
  },
  {
   "cell_type": "code",
   "execution_count": null,
   "id": "b3c5fc7e",
   "metadata": {},
   "outputs": [],
   "source": [
    "noncommute_type"
   ]
  },
  {
   "cell_type": "markdown",
   "id": "c9eae943",
   "metadata": {},
   "source": [
    "## Summary of Findings\n",
    "\n",
    "\n",
    "**Exploration of the data yielded these findings, motivating the idea of targeting in-app offers to commuters:**\n",
    "- Most riders use our bikes during weekdays (Monday-Friday).\n",
    "- Weekday riders use our bikes the most in the morning (around 8am) or in the afternoon (around 5pm), while weekend riders usually use the bikes in the middle of the day (around 1pm).\n",
    "- Peak hours during weekdays resemble work commute peak hours.\n",
    "\n",
    "**The 5 most popular commuter trips, in order of popularity, are:**\n",
    "1. 2nd at Townsend $\\rightarrow$ Harry Bridges Plaza (Ferry Building)\n",
    "2. Harry Bridges Plaza (Ferry Building) $\\rightarrow$ 2nd at Townsend\n",
    "3. San Francisco Caltrain 2 (330 Townsend) $\\rightarrow$ Townsend at 7th\n",
    "4. Embarcadero at Sansome $\\rightarrow$ Steuart at Market\n",
    "5. Embarcadero at Folsom $\\rightarrow$ San Francisco Caltrain (Townsend at 4th)\n",
    "\n",
    "**Characteristics of the 5 most popular commuter trips:**\n",
    "- They are taken in Embarcadero, which is close to the Financial District, and/or SOMA (South of Market).\n",
    "- The average trip duration for all of those trips is about 10 minutes or less.\n",
    "- Most commuters are subscribers.\n",
    "- Most trips made during weekend peak hours are customers (ie. non-subscribers)."
   ]
  },
  {
   "cell_type": "markdown",
   "id": "581bd425",
   "metadata": {},
   "source": [
    "# Recommendations for offers"
   ]
  },
  {
   "cell_type": "markdown",
   "id": "22ff4704",
   "metadata": {},
   "source": [
    "### **1. Subscribers can ride *e-bikes* for free for the first 10 minutes on weekdays.**\n",
    "\n",
    "   * *Why e-bikes?* \n",
    "       - Subscribers can already ride regular bikes for free (up to 45 minutes), but they have to pay 15 cents per minute to ride the e-bike.\n",
    "       \n",
    "       \n",
    "   * *Why 10 minutes on weekdays?*\n",
    "       - All 5 of the most popular commuter trips are about 10 minutes long, and since most commuters are subscribers, offering subscribers the option to ride e-bikes for free for the typical commute duration on weekdays would encourage commuters to use our service even when they are feeling a bit too tired or lazy to ride bikes."
   ]
  },
  {
   "cell_type": "markdown",
   "id": "c589f569",
   "metadata": {},
   "source": [
    "### **2. Offer membership discounts to those working and/or living in the Financial District, Embarcadero, or SOMA neighborhoods.**\n",
    "\n",
    "   * *Why membership discounts?*\n",
    "       - Commuters are usually subscribers, and those who are not would likely prefer membership due to regular use.\n",
    "       \n",
    "       \n",
    "   * *Why these neighborhoods?*\n",
    "       - Since the 5 most popular trips are done in or near these areas, membership discounts would encourage a lot of commuters to start or continue using our service."
   ]
  },
  {
   "cell_type": "markdown",
   "id": "f40dda75",
   "metadata": {},
   "source": [
    "### **3. Offer discounts to Customers during the weekend from 11am to 5pm.**\n",
    "\n",
    "   * *Why customers (ie. non-subscribers)?* \n",
    "       - Most trips during the weekend are completed by customers.\n",
    "       \n",
    "       \n",
    "   * *Why 11am-5pm on the weekends?*\n",
    "       - 11am to 5pm is when most trips are occuring during weekends."
   ]
  }
 ],
 "metadata": {
  "environment": {
   "name": "common-cpu.m69",
   "type": "gcloud",
   "uri": "gcr.io/deeplearning-platform-release/base-cpu:m69"
  },
  "kernelspec": {
   "display_name": "Python 3",
   "language": "python",
   "name": "python3"
  },
  "language_info": {
   "codemirror_mode": {
    "name": "ipython",
    "version": 3
   },
   "file_extension": ".py",
   "mimetype": "text/x-python",
   "name": "python",
   "nbconvert_exporter": "python",
   "pygments_lexer": "ipython3",
   "version": "3.7.1"
  }
 },
 "nbformat": 4,
 "nbformat_minor": 5
}
